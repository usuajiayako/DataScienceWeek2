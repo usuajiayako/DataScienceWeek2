{
 "cells": [
  {
   "cell_type": "markdown",
   "metadata": {},
   "source": [
    "# Content\n",
    "\n",
    "Several constraints were placed on the selection of these instances from a larger database. In particular, all patients here are females at least 21 years old of Pima Indian heritage.\n",
    "\n",
    "Pregnancies: Number of times pregnant\n",
    "Glucose: Plasma glucose concentration a 2 hours in an oral glucose tolerance test\n",
    "BloodPressure: Diastolic blood pressure (mm Hg)\n",
    "SkinThickness: Triceps skin fold thickness (mm)\n",
    "Insulin: 2-Hour serum insulin (mu U/ml)\n",
    "BMI: Body mass index (weight in kg/(height in m)^2)\n",
    "DiabetesPedigreeFunction: Diabetes pedigree function\n",
    "Age: Age (years)\n",
    "Outcome: Class variable (0 or 1)"
   ]
  },
  {
   "cell_type": "code",
   "execution_count": 29,
   "metadata": {},
   "outputs": [
    {
     "name": "stdout",
     "output_type": "stream",
     "text": [
      "768\n"
     ]
    }
   ],
   "source": [
    "import numpy as np\n",
    "\n",
    "dataRaw = np.loadtxt(\"diabetes.csv\", delimiter = \",\", dtype = \"object\")\n",
    "\n",
    "header = dataRaw[0, :] \n",
    "# ['Pregnancies' 'Glucose' 'BloodPressure' 'SkinThickness' 'Insulin' 'BMI'\n",
    "#  'DiabetesPedigreeFunction' 'Age' 'Outcome'] \n",
    "\n",
    "\n",
    "data = dataRaw[1:,:10]\n",
    "# print(data)\n",
    "\n",
    "data = np.vstack(data.astype(np.float32))  # changing string to float\n",
    "\n",
    "labels = np.vstack(dataRaw[1:, 8].astype(np.int32)) # Outcome column\n"
   ]
  },
  {
   "cell_type": "code",
   "execution_count": 12,
   "metadata": {},
   "outputs": [
    {
     "name": "stdout",
     "output_type": "stream",
     "text": [
      "[0 1]\n",
      "[500 268]\n"
     ]
    }
   ],
   "source": [
    "labelsUn, labelsCounts = np.unique(labels, return_counts = True)\n",
    "print(labelsUn) # labelsUn = [0 1]\n",
    "print(labelsCounts) # labelsCounts = [500 268]"
   ]
  },
  {
   "cell_type": "code",
   "execution_count": 34,
   "metadata": {},
   "outputs": [
    {
     "name": "stdout",
     "output_type": "stream",
     "text": [
      "(768,)\n",
      "768\n",
      "768\n",
      "(768,)\n",
      "768\n",
      "768\n",
      "average [[  4.86567163 141.25746155  70.82462311  22.16417885 100.33582306\n",
      "   35.14253235   0.55049992  37.06716537   1.        ]\n",
      " [  3.2980001  109.98000336  68.18399811  19.66399956  68.79199982\n",
      "   30.30418587   0.42973423  31.19000053   0.        ]]\n",
      "maxi [[ 17.         199.         114.          99.         846.\n",
      "   67.09999847   2.42000008  70.           1.        ]\n",
      " [ 13.         197.         122.          60.         744.\n",
      "   57.29999924   2.329       81.           0.        ]]\n",
      "mini [[ 0.     0.     0.     0.     0.     0.     0.088 21.     1.   ]\n",
      " [ 0.     0.     0.     0.     0.     0.     0.078 21.     0.   ]]\n",
      "sd [[  3.7342515   31.87997818  21.45167542  17.64668655 138.43019104\n",
      "    7.24940491   0.3716591   10.94777298   0.        ]\n",
      " [  3.01416397  26.11504173  18.0450058   14.87504959  98.7663269\n",
      "    7.68216181   0.29878604  11.6559782    0.        ]]\n"
     ]
    }
   ],
   "source": [
    "nrows, ncols = np.shape(data)\n",
    "nclasses = len(labelsUn)\n",
    "# nrows = 768\n",
    "# ncols = 9\n",
    "# nclasses = 2\n",
    "\n",
    "average = np.zeros((nclasses, ncols)) #[[0. 0. 0. 0. 0. 0. 0. 0. 0.],[0. 0. 0. 0. 0. 0. 0. 0. 0.]]\n",
    "maxi = np.zeros((nclasses, ncols))\n",
    "mini = np.zeros((nclasses, ncols))\n",
    "sd = np.zeros((nclasses, ncols))\n",
    "\n",
    "for i in labelsUn: # labelsUn = [0 1]\n",
    "    # print(i)\n",
    "    indexes = np.reshape(labels == i, nrows) # labels = list of 0 and 1s\n",
    "    print(indexes.shape)\n",
    "    print(indexes.size)\n",
    "    print(len(indexes))\n",
    "    average[i - 1, :] = np.mean(data[indexes, :], axis = 0) # indexes \n",
    "    maxi[i - 1, :] = np.max(data[indexes, :], axis = 0)\n",
    "    mini[i - 1, :] = np.min(data[indexes, :], axis = 0)\n",
    "    sd[i - 1, :] = np.std(data[indexes, :], axis = 0)\n",
    "\n",
    "print(\"average\", average)\n",
    "print(\"maxi\", maxi)\n",
    "print(\"mini\", mini)\n",
    "print(\"sd\", sd)"
   ]
  },
  {
   "cell_type": "code",
   "execution_count": 14,
   "metadata": {},
   "outputs": [
    {
     "name": "stdout",
     "output_type": "stream",
     "text": [
      "[[ 48.2         46.4         46.6         46.8         49.\n",
      "   48.          48.4         48.6        100.        ]\n",
      " [-76.11940299 -80.59701493 -84.70149254 -83.58208955 -77.6119403\n",
      "  -83.20895522 -79.10447761 -73.13432836 100.        ]]\n"
     ]
    }
   ],
   "source": []
  }
 ],
 "metadata": {
  "kernelspec": {
   "display_name": "Python 3.9.13 64-bit",
   "language": "python",
   "name": "python3"
  },
  "language_info": {
   "codemirror_mode": {
    "name": "ipython",
    "version": 3
   },
   "file_extension": ".py",
   "mimetype": "text/x-python",
   "name": "python",
   "nbconvert_exporter": "python",
   "pygments_lexer": "ipython3",
   "version": "3.9.13"
  },
  "orig_nbformat": 4,
  "vscode": {
   "interpreter": {
    "hash": "b0fa6594d8f4cbf19f97940f81e996739fb7646882a419484c72d19e05852a7e"
   }
  }
 },
 "nbformat": 4,
 "nbformat_minor": 2
}
