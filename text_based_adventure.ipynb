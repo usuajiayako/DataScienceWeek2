{
 "cells": [
  {
   "cell_type": "code",
   "execution_count": null,
   "metadata": {},
   "outputs": [],
   "source": [
    "# Text based adventure game\n",
    "\n",
    "# House description\n",
    "# Address:1705 Ocean Ave Unit 502, Santa Monica, CA\n",
    "# 2 bed 2 baths 1500sq Selling price: $2.75 million\n",
    "\n",
    "\n"
   ]
  }
 ],
 "metadata": {
  "language_info": {
   "name": "python"
  },
  "orig_nbformat": 4
 },
 "nbformat": 4,
 "nbformat_minor": 2
}
