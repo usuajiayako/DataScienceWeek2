{
 "cells": [
  {
   "cell_type": "code",
   "execution_count": 100,
   "metadata": {},
   "outputs": [
    {
     "name": "stdout",
     "output_type": "stream",
     "text": [
      "Welcome to 1705 Ocean Avenue Unit 502, Santa Monica :)\n",
      "You can only go forward, start again.\n"
     ]
    },
    {
     "ename": "TypeError",
     "evalue": "cannot unpack non-iterable NoneType object",
     "output_type": "error",
     "traceback": [
      "\u001b[0;31m---------------------------------------------------------------------------\u001b[0m",
      "\u001b[0;31mTypeError\u001b[0m                                 Traceback (most recent call last)",
      "Cell \u001b[0;32mIn [100], line 57\u001b[0m\n\u001b[1;32m     55\u001b[0m v_position, h_position \u001b[38;5;241m=\u001b[39m direction(d, v_position, h_position)\n\u001b[1;32m     56\u001b[0m v_position, h_position \u001b[38;5;241m=\u001b[39m warning(v_position, h_position)\n\u001b[0;32m---> 57\u001b[0m v_position, h_position \u001b[38;5;241m=\u001b[39m room(v_position, h_position)\n",
      "\u001b[0;31mTypeError\u001b[0m: cannot unpack non-iterable NoneType object"
     ]
    }
   ],
   "source": [
    "# Text based adventure game\n",
    "\n",
    "# House description\n",
    "# Address:1705 Ocean Ave Unit 502, Santa Monica, CA\n",
    "# 2 bed 2 baths 1500sq Selling price: $2.75 million\n",
    "\n",
    "print(\"Welcome to 1705 Ocean Avenue Unit 502, Santa Monica :)\")\n",
    "\n",
    "# asking which direction do you want to go\n",
    "def ask(v_position, h_position):\n",
    "    d = input(\"Which way do you want to go? f(forward)/b(backward)/l(left)/r(right)\")\n",
    "    return d, v_position, h_position\n",
    "\n",
    "# adding direction to v_position or h_position\n",
    "def direction(d, v_position, h_position):\n",
    "    if d == \"f\":\n",
    "        v_position += 1\n",
    "    elif d == \"b\":\n",
    "        v_position -= 1\n",
    "    elif d == \"r\":\n",
    "        h_position += 1\n",
    "    elif d == \"l\":\n",
    "        h_position += 1\n",
    "    return v_position, h_position\n",
    "\n",
    "# warning player\n",
    "def warning(v_position, h_position):\n",
    "    if v_position == -1 and h_position == 0:\n",
    "        print(\"You can only go forward, start again.\")\n",
    "        return v_position, h_position\n",
    "    else:\n",
    "        return v_position, h_position\n",
    "\n",
    "# room\n",
    "def room(v_position, h_position):\n",
    "    if v_position <= 5 and v_position > 0:\n",
    "        print(\"You are in a hallway\")\n",
    "        print(\"hallway:\", v_position, h_position)\n",
    "        return v_position, h_position\n",
    "    elif v_position > 5 and v_position < 10:\n",
    "        print(\"You are in a living room\")\n",
    "        print(\"living room:\", v_position, h_position)\n",
    "        return v_position, h_position\n",
    "    elif v_position > 9 and v_position < 11:\n",
    "        print(\"You are in a balcony\")\n",
    "        print(\"balcony:\", v_position, h_position)\n",
    "        return v_position, h_position\n",
    "\n",
    "v_position = 0.\n",
    "h_position = 0\n",
    "\n",
    "while True:\n",
    "    d, v_position, h_position  = ask(v_position, h_position)\n",
    "    v_position, h_position = direction(d, v_position, h_position)\n",
    "    v_position, h_position = warning(v_position, h_position)\n",
    "    v_position, h_position = room(v_position, h_position)\n",
    "\n",
    "\n",
    "\n"
   ]
  }
 ],
 "metadata": {
  "kernelspec": {
   "display_name": "Python 3.9.13 64-bit",
   "language": "python",
   "name": "python3"
  },
  "language_info": {
   "codemirror_mode": {
    "name": "ipython",
    "version": 3
   },
   "file_extension": ".py",
   "mimetype": "text/x-python",
   "name": "python",
   "nbconvert_exporter": "python",
   "pygments_lexer": "ipython3",
   "version": "3.9.13"
  },
  "orig_nbformat": 4,
  "vscode": {
   "interpreter": {
    "hash": "b0fa6594d8f4cbf19f97940f81e996739fb7646882a419484c72d19e05852a7e"
   }
  }
 },
 "nbformat": 4,
 "nbformat_minor": 2
}
