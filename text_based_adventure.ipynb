{
 "cells": [
  {
   "cell_type": "code",
   "execution_count": 20,
   "metadata": {},
   "outputs": [
    {
     "name": "stdout",
     "output_type": "stream",
     "text": [
      "Welcome to 1705 Ocean Avenue Unit 502, Santa Monica :)\n",
      "You are in a hallway\n"
     ]
    }
   ],
   "source": [
    "# Text based adventure game\n",
    "\n",
    "# House description\n",
    "# Address:1705 Ocean Ave Unit 502, Santa Monica, CA\n",
    "# 2 bed 2 baths 1500sq Selling price: $2.75 million\n",
    "\n",
    "\n",
    "\n",
    "print(\"Welcome to 1705 Ocean Avenue Unit 502, Santa Monica :)\")\n",
    "\n",
    "where_you_are = []\n",
    "\n",
    "# giving discription\n",
    "def description(where_you_are):\n",
    "    if len(where_you_are) == 1 and where_you_are[0] != \"f\":\n",
    "        print(\"You can only go forward\")\n",
    "    else:\n",
    "        print(\"You are in a hallway\")\n",
    "\n",
    "# asking which direction do you want to go\n",
    "def ask():\n",
    "    d = input(\"Which way do you want to go? f(forward)/b(backward)/l(left)/r(right)\")\n",
    "    return direction(d)\n",
    "\n",
    "# adding direction to where_you_are\n",
    "def direction(d):\n",
    "    where_you_are.append(d)\n",
    "    description(where_you_are)\n",
    "\n",
    "\n",
    "ask()"
   ]
  }
 ],
 "metadata": {
  "kernelspec": {
   "display_name": "Python 3.9.13 64-bit",
   "language": "python",
   "name": "python3"
  },
  "language_info": {
   "codemirror_mode": {
    "name": "ipython",
    "version": 3
   },
   "file_extension": ".py",
   "mimetype": "text/x-python",
   "name": "python",
   "nbconvert_exporter": "python",
   "pygments_lexer": "ipython3",
   "version": "3.9.13"
  },
  "orig_nbformat": 4,
  "vscode": {
   "interpreter": {
    "hash": "b0fa6594d8f4cbf19f97940f81e996739fb7646882a419484c72d19e05852a7e"
   }
  }
 },
 "nbformat": 4,
 "nbformat_minor": 2
}
