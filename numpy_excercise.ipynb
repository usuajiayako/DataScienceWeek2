{
 "cells": [
  {
   "cell_type": "code",
   "execution_count": 1,
   "metadata": {},
   "outputs": [],
   "source": [
    "import numpy as np"
   ]
  },
  {
   "cell_type": "code",
   "execution_count": 3,
   "metadata": {},
   "outputs": [
    {
     "name": "stdout",
     "output_type": "stream",
     "text": [
      "42\n"
     ]
    }
   ],
   "source": [
    "# 0D Array/ Scalar\n",
    "arr = np.array(42)\n",
    "print(arr)"
   ]
  },
  {
   "cell_type": "code",
   "execution_count": 4,
   "metadata": {},
   "outputs": [
    {
     "name": "stdout",
     "output_type": "stream",
     "text": [
      "[1 2 3]\n"
     ]
    }
   ],
   "source": [
    "# 1D Array\n",
    "one_dim_arr = np.array([1,2,3])\n",
    "print(one_dim_arr)"
   ]
  },
  {
   "cell_type": "code",
   "execution_count": 5,
   "metadata": {},
   "outputs": [
    {
     "name": "stdout",
     "output_type": "stream",
     "text": [
      "[[1 2 3]\n",
      " [4 5 6]]\n"
     ]
    }
   ],
   "source": [
    "# 2D Array\n",
    "two_dim_arr = np.array([[1,2,3],[4,5,6]])\n",
    "print(two_dim_arr)"
   ]
  },
  {
   "cell_type": "code",
   "execution_count": 12,
   "metadata": {},
   "outputs": [
    {
     "name": "stdout",
     "output_type": "stream",
     "text": [
      "[[[1 2 3]\n",
      "  [4 5 6]]\n",
      "\n",
      " [[1 2 3]\n",
      "  [4 5 6]]]\n",
      "(2, 2, 3)\n"
     ]
    }
   ],
   "source": [
    "# 3D array\n",
    "three_dim_arr = np.array([[[1,2,3],[4,5,6]], [[1,2,3],[4,5,6]]])\n",
    "print(three_dim_arr)\n",
    "print(three_dim_arr.shape)"
   ]
  },
  {
   "cell_type": "code",
   "execution_count": 8,
   "metadata": {},
   "outputs": [
    {
     "name": "stdout",
     "output_type": "stream",
     "text": [
      "[[0. 0.]\n",
      " [0. 0.]\n",
      " [0. 0.]]\n"
     ]
    }
   ],
   "source": [
    "#Initialising a numpy array\n",
    "num_of_rows = 3\n",
    "num_of_col = 2\n",
    "arrays_of_zero = np.zeros((num_of_rows, num_of_col))\n",
    "\n",
    "print(arrays_of_zero)"
   ]
  },
  {
   "cell_type": "code",
   "execution_count": 10,
   "metadata": {},
   "outputs": [
    {
     "name": "stdout",
     "output_type": "stream",
     "text": [
      "[[35 35]\n",
      " [35 35]\n",
      " [35 35]]\n"
     ]
    }
   ],
   "source": [
    "arr_of_5s = 5 * np.full((num_of_rows, num_of_col), 7)\n",
    "print(arr_of_5s)"
   ]
  },
  {
   "cell_type": "code",
   "execution_count": 13,
   "metadata": {},
   "outputs": [
    {
     "name": "stdout",
     "output_type": "stream",
     "text": [
      "[10 13 16 19 22]\n"
     ]
    }
   ],
   "source": [
    "start = 10\n",
    "end = 25\n",
    "step = 3\n",
    "even_step = np.arange(start, end, step)\n",
    "print(even_step)"
   ]
  },
  {
   "cell_type": "code",
   "execution_count": 15,
   "metadata": {},
   "outputs": [
    {
     "name": "stdout",
     "output_type": "stream",
     "text": [
      "[[1. 0.]\n",
      " [0. 1.]]\n"
     ]
    }
   ],
   "source": [
    "identity_matrix = np.eye(2)\n",
    "print(identity_matrix)"
   ]
  },
  {
   "cell_type": "code",
   "execution_count": 29,
   "metadata": {},
   "outputs": [
    {
     "name": "stdout",
     "output_type": "stream",
     "text": [
      "[[0.38961029 0.1184941  0.27819165]\n",
      " [0.86828731 0.07219948 0.34220207]]\n"
     ]
    }
   ],
   "source": [
    "random01 = np.random.random((2,3))\n",
    "print(random01)"
   ]
  },
  {
   "cell_type": "code",
   "execution_count": 30,
   "metadata": {},
   "outputs": [
    {
     "name": "stdout",
     "output_type": "stream",
     "text": [
      "[[0 6 4]\n",
      " [9 7 7]]\n"
     ]
    }
   ],
   "source": [
    "randomintrange = np.random.randint(0,  10, (2,3))\n",
    "print(randomintrange)"
   ]
  },
  {
   "cell_type": "code",
   "execution_count": 41,
   "metadata": {},
   "outputs": [
    {
     "data": {
      "text/plain": [
       "dtype('int64')"
      ]
     },
     "execution_count": 41,
     "metadata": {},
     "output_type": "execute_result"
    }
   ],
   "source": [
    "\n",
    "a = np.array([[5,6,3], [2,5,1]])\n",
    "a.ndim\n",
    "a.shape\n",
    "a.size\n",
    "a.dtype"
   ]
  },
  {
   "cell_type": "code",
   "execution_count": 81,
   "metadata": {},
   "outputs": [
    {
     "name": "stdout",
     "output_type": "stream",
     "text": [
      "[ 0  2  4 -5 -3 -7  8 -9 -5 -1]\n"
     ]
    }
   ],
   "source": [
    "# Task 1 changing odd numbers to its negative numbers \n",
    "\n",
    "arr = np.array([0,2,4,5,3,7,8,9,5,1])\n",
    "\n",
    "index = 0\n",
    "\n",
    "for num in arr:\n",
    "    if num % 2 == 1:\n",
    "        arr[index] = num * -1\n",
    "        index += 1\n",
    "    else:\n",
    "        index += 1\n",
    "    \n",
    "print(arr)"
   ]
  },
  {
   "cell_type": "code",
   "execution_count": 56,
   "metadata": {},
   "outputs": [
    {
     "name": "stdout",
     "output_type": "stream",
     "text": [
      "[ 0  2  4 -5 -3 -7  8 -9 -5 -1]\n"
     ]
    }
   ],
   "source": [
    "arr = np.array([0,2,4,5,3,7,8,9,5,1])\n",
    "arr[arr % 2 == 1] = -1 * arr[arr % 2 == 1]\n",
    "print(arr)"
   ]
  },
  {
   "cell_type": "code",
   "execution_count": 58,
   "metadata": {},
   "outputs": [],
   "source": [
    "# Numpy array arithmetic \n",
    "\n",
    "a = np.array([[1,2,5], [7,1,3]])\n",
    "b = np.array([[4,6,9], [2,5,1]])"
   ]
  },
  {
   "cell_type": "code",
   "execution_count": 59,
   "metadata": {},
   "outputs": [
    {
     "name": "stdout",
     "output_type": "stream",
     "text": [
      "[[ 5  8 14]\n",
      " [ 9  6  4]]\n"
     ]
    }
   ],
   "source": [
    "# Adding matrices\n",
    "add1 = a + b\n",
    "print(add1)"
   ]
  },
  {
   "cell_type": "code",
   "execution_count": 60,
   "metadata": {},
   "outputs": [
    {
     "name": "stdout",
     "output_type": "stream",
     "text": [
      "[[ 5  8 14]\n",
      " [ 9  6  4]]\n"
     ]
    }
   ],
   "source": [
    "add2 = np.add(a, b)\n",
    "print(add2)"
   ]
  },
  {
   "cell_type": "code",
   "execution_count": 61,
   "metadata": {},
   "outputs": [
    {
     "name": "stdout",
     "output_type": "stream",
     "text": [
      "[[-3 -4 -4]\n",
      " [ 5 -4  2]]\n"
     ]
    }
   ],
   "source": [
    "# Subtracting matrices\n",
    "sub1 = a - b\n",
    "print(sub1)"
   ]
  },
  {
   "cell_type": "code",
   "execution_count": 62,
   "metadata": {},
   "outputs": [
    {
     "name": "stdout",
     "output_type": "stream",
     "text": [
      "[[-3 -4 -4]\n",
      " [ 5 -4  2]]\n"
     ]
    }
   ],
   "source": [
    "sub2 = np.subtract(a, b)\n",
    "print(sub2)"
   ]
  },
  {
   "cell_type": "code",
   "execution_count": 63,
   "metadata": {},
   "outputs": [
    {
     "name": "stdout",
     "output_type": "stream",
     "text": [
      "[[ 4 12 45]\n",
      " [14  5  3]]\n"
     ]
    }
   ],
   "source": [
    "# multiplying matrices\n",
    "\n",
    "# a = np.array([[1,2,5], [7,1,3]])\n",
    "# b = np.array([[4,6,9], [2,5,1]])\n",
    "\n",
    "mul1 = a * b\n",
    "print(mul1) "
   ]
  },
  {
   "cell_type": "code",
   "execution_count": 64,
   "metadata": {},
   "outputs": [
    {
     "name": "stdout",
     "output_type": "stream",
     "text": [
      "[[ 4 12 45]\n",
      " [14  5  3]]\n"
     ]
    }
   ],
   "source": [
    "mul2 = np.multiply(a, b)\n",
    "print(mul2)"
   ]
  },
  {
   "cell_type": "code",
   "execution_count": 65,
   "metadata": {},
   "outputs": [
    {
     "name": "stdout",
     "output_type": "stream",
     "text": [
      "[[0.25       0.33333333 0.55555556]\n",
      " [3.5        0.2        3.        ]]\n"
     ]
    }
   ],
   "source": [
    "# division\n",
    "\n",
    "div1 = a / b\n",
    "print(div1)\n",
    "\n",
    "div2 = np.divide(a, b)\n",
    "print(div2)"
   ]
  },
  {
   "cell_type": "code",
   "execution_count": 66,
   "metadata": {},
   "outputs": [
    {
     "name": "stdout",
     "output_type": "stream",
     "text": [
      "7\n"
     ]
    }
   ],
   "source": [
    "# a = np.array([[1,2,5], [7,1,3]])\n",
    "# b = np.array([[4,6,9], [2,5,1]])\n",
    "\n",
    "maxi = a.max()\n",
    "print(maxi)"
   ]
  },
  {
   "cell_type": "code",
   "execution_count": 67,
   "metadata": {},
   "outputs": [
    {
     "name": "stdout",
     "output_type": "stream",
     "text": [
      "2.1921577396609844\n"
     ]
    }
   ],
   "source": [
    "# standard deviation\n",
    "std_dev = np.std(a)\n",
    "print(std_dev)"
   ]
  },
  {
   "cell_type": "code",
   "execution_count": 87,
   "metadata": {},
   "outputs": [
    {
     "name": "stdout",
     "output_type": "stream",
     "text": [
      "1.7320508075688772\n",
      "1.224744871391589\n",
      "1.8314207507423532\n"
     ]
    }
   ],
   "source": [
    "# Task 2 computing length of triangle\n",
    "\n",
    "from numpy import linalg as la\n",
    "import math\n",
    "\n",
    "a = np.array([0,0])\n",
    "b = np.array([0,3])\n",
    "c = np.array([1.5,0])\n",
    "\n",
    "ab2 = la.norm(a - b)\n",
    "ac2 = la.norm(a - c)\n",
    "bc2 = la.norm(b - c)\n",
    "\n",
    "print(math.sqrt(ab2))\n",
    "print(math.sqrt(ac2))\n",
    "print(math.sqrt(bc2))"
   ]
  },
  {
   "cell_type": "code",
   "execution_count": 91,
   "metadata": {},
   "outputs": [
    {
     "name": "stdout",
     "output_type": "stream",
     "text": [
      "[[1 2 3]\n",
      " [4 5 6]]\n"
     ]
    }
   ],
   "source": [
    "new_var = np.array([[1,2,3], [4,5,6]])\n",
    "print(new_var)"
   ]
  },
  {
   "cell_type": "code",
   "execution_count": 92,
   "metadata": {},
   "outputs": [
    {
     "name": "stdout",
     "output_type": "stream",
     "text": [
      "[[1 4]\n",
      " [2 5]\n",
      " [3 6]]\n"
     ]
    }
   ],
   "source": [
    "new_var_t = np.transpose(new_var)\n",
    "print(new_var_t)"
   ]
  },
  {
   "cell_type": "code",
   "execution_count": 93,
   "metadata": {},
   "outputs": [
    {
     "name": "stdout",
     "output_type": "stream",
     "text": [
      "[[1 2]\n",
      " [3 4]\n",
      " [5 6]]\n"
     ]
    }
   ],
   "source": [
    "reshape1 = np.reshape(new_var, (3,2))\n",
    "print(reshape1)"
   ]
  },
  {
   "cell_type": "code",
   "execution_count": 94,
   "metadata": {},
   "outputs": [
    {
     "name": "stdout",
     "output_type": "stream",
     "text": [
      "[[11 12 13 17 18 19]\n",
      " [14 15 16 20 21 22]]\n"
     ]
    }
   ],
   "source": [
    "# stacking numpy array\n",
    "# horizontal stacking\n",
    "# vertical stacking\n",
    "\n",
    "matrix1 = np.array([[11, 12, 13], [14, 15, 16]])\n",
    "matrix2 = np.array([[17, 18, 19], [20, 21, 22]])\n",
    "\n",
    "stack_horiz = np.hstack([matrix1, matrix2])\n",
    "print(stack_horiz)"
   ]
  },
  {
   "cell_type": "code",
   "execution_count": 100,
   "metadata": {},
   "outputs": [
    {
     "name": "stdout",
     "output_type": "stream",
     "text": [
      "[[11 12 13]\n",
      " [14 15 16]\n",
      " [17 18 19]\n",
      " [20 21 22]]\n"
     ]
    }
   ],
   "source": [
    "stack_vert = np.vstack([matrix1, matrix2])\n",
    "print(stack_vert)"
   ]
  },
  {
   "cell_type": "code",
   "execution_count": 105,
   "metadata": {},
   "outputs": [
    {
     "name": "stdout",
     "output_type": "stream",
     "text": [
      "[[11 12 13 17 18 19]\n",
      " [14 15 16 20 21 22]]\n"
     ]
    }
   ],
   "source": [
    "# concatination of array\n",
    "# axis0 = row, axis1 = column\n",
    "refined_column = np.concatenate((matrix1, matrix2), axis = 1)\n",
    "print(refined_column)"
   ]
  },
  {
   "cell_type": "code",
   "execution_count": 102,
   "metadata": {},
   "outputs": [
    {
     "name": "stdout",
     "output_type": "stream",
     "text": [
      "[[11 12 13]\n",
      " [14 15 16]\n",
      " [17 18 19]\n",
      " [20 21 22]]\n"
     ]
    }
   ],
   "source": [
    "refined_row = np.concatenate((matrix1, matrix2), axis = 0)\n",
    "print(refined_row)"
   ]
  },
  {
   "cell_type": "code",
   "execution_count": 106,
   "metadata": {},
   "outputs": [],
   "source": [
    "# saving a file\n",
    "np.save(\"array_a\", refined_row)\n",
    "# saving multiple \n",
    "np.savez(\"refined_save\", arr1 = refined_row, arr2 = refined_column)\n"
   ]
  },
  {
   "cell_type": "code",
   "execution_count": 107,
   "metadata": {},
   "outputs": [],
   "source": [
    "load_refined = np.load(\"array_a.npy\")"
   ]
  },
  {
   "cell_type": "code",
   "execution_count": 109,
   "metadata": {},
   "outputs": [
    {
     "name": "stdout",
     "output_type": "stream",
     "text": [
      "[[11 12 13 17 18 19]\n",
      " [14 15 16 20 21 22]]\n"
     ]
    }
   ],
   "source": [
    "# saving contents of the saved npz file\n",
    "content = np.load(\"refined_save.npz\")\n",
    "anpz = content[\"arr1\"]\n",
    "bnpz = content[\"arr2\"]\n",
    "print(bnpz)"
   ]
  },
  {
   "cell_type": "code",
   "execution_count": null,
   "metadata": {},
   "outputs": [],
   "source": [
    "# import a csv file\n",
    "\n",
    "acsv = np.loadtxt(\"\")"
   ]
  },
  {
   "cell_type": "code",
   "execution_count": 113,
   "metadata": {},
   "outputs": [
    {
     "name": "stdout",
     "output_type": "stream",
     "text": [
      "[1.  2.5 3.4]\n",
      "[1. 2. 3.]\n"
     ]
    }
   ],
   "source": [
    "num = np.array([1.0, 2.5, 3.4])\n",
    "print(num)\n",
    "\n",
    "rounded = np.round(num)\n",
    "print(rounded)"
   ]
  }
 ],
 "metadata": {
  "kernelspec": {
   "display_name": "Python 3.9.13 64-bit",
   "language": "python",
   "name": "python3"
  },
  "language_info": {
   "codemirror_mode": {
    "name": "ipython",
    "version": 3
   },
   "file_extension": ".py",
   "mimetype": "text/x-python",
   "name": "python",
   "nbconvert_exporter": "python",
   "pygments_lexer": "ipython3",
   "version": "3.9.13"
  },
  "orig_nbformat": 4,
  "vscode": {
   "interpreter": {
    "hash": "b0fa6594d8f4cbf19f97940f81e996739fb7646882a419484c72d19e05852a7e"
   }
  }
 },
 "nbformat": 4,
 "nbformat_minor": 2
}
